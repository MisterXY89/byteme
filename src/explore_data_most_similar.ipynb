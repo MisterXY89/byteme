{
 "cells": [
  {
   "cell_type": "code",
   "execution_count": 1,
   "metadata": {},
   "outputs": [],
   "source": [
    "from recommend import Recommender\n",
    "import matplotlib.pyplot as plt\n",
    "import numpy as np\n",
    "import bayespy.plot as bpplt\n",
    "import pandas as pd"
   ]
  },
  {
   "cell_type": "code",
   "execution_count": 2,
   "metadata": {},
   "outputs": [],
   "source": [
    "model = Recommender(sim=True)\n",
    "result = model.fit(cluster_size=5)"
   ]
  },
  {
   "cell_type": "code",
   "execution_count": 3,
   "metadata": {},
   "outputs": [],
   "source": [
    "weighted_df = pd.DataFrame(result[\"weighted\"])"
   ]
  },
  {
   "cell_type": "code",
   "execution_count": 4,
   "metadata": {},
   "outputs": [],
   "source": [
    "def _proposeSimilar(max_size: int = 7, min_size: int = 3) -> dict:\n",
    "\n",
    "    recommendations = {f\"Group {i}\": [] for i in range(1, weighted_df.shape[1]+1)}\n",
    "\n",
    "    for idx, participant in weighted_df.iterrows():\n",
    "        recommendations[f\"Group {participant.idxmax()+1}\"].append({\"Person\":idx, \"Prob\":participant.max()})\n",
    "\n",
    "  \n",
    "    return recommendations\n",
    "recommendations = _proposeSimilar()\n"
   ]
  },
  {
   "cell_type": "code",
   "execution_count": 5,
   "metadata": {},
   "outputs": [
    {
     "data": {
      "text/plain": [
       "{'Group 1': [5, 12, 23, 27, 29, 19, 13, 14, 24, 15],\n",
       " 'Group 2': [2, 17, 1, 7],\n",
       " 'Group 3': [4, 6, 18, 16, 3, 25, 28, 9, 20, 8, 21, 0],\n",
       " 'Group 4': [26],\n",
       " 'Group 5': [22, 11, 10]}"
      ]
     },
     "execution_count": 5,
     "metadata": {},
     "output_type": "execute_result"
    }
   ],
   "source": [
    "for k, v in recommendations.items():\n",
    "    newlist = sorted(v, key=lambda d: d['Prob'], reverse=True)\n",
    "    recommendations[k] = [v[\"Person\"] for v in newlist]\n",
    "recommendations\n"
   ]
  },
  {
   "cell_type": "code",
   "execution_count": null,
   "metadata": {},
   "outputs": [],
   "source": []
  },
  {
   "cell_type": "code",
   "execution_count": null,
   "metadata": {},
   "outputs": [],
   "source": []
  },
  {
   "cell_type": "code",
   "execution_count": null,
   "metadata": {},
   "outputs": [],
   "source": []
  }
 ],
 "metadata": {
  "kernelspec": {
   "display_name": "byteme",
   "language": "python",
   "name": "python3"
  },
  "language_info": {
   "codemirror_mode": {
    "name": "ipython",
    "version": 3
   },
   "file_extension": ".py",
   "mimetype": "text/x-python",
   "name": "python",
   "nbconvert_exporter": "python",
   "pygments_lexer": "ipython3",
   "version": "3.9.12"
  },
  "orig_nbformat": 4
 },
 "nbformat": 4,
 "nbformat_minor": 2
}
