{
 "cells": [
  {
   "cell_type": "code",
   "execution_count": 44,
   "metadata": {},
   "outputs": [],
   "source": [
    "from recommend import Recommender\n",
    "import matplotlib.pyplot as plt\n",
    "import numpy as np\n",
    "import bayespy.plot as bpplt\n",
    "import pandas as pd"
   ]
  },
  {
   "cell_type": "code",
   "execution_count": 55,
   "metadata": {},
   "outputs": [],
   "source": [
    "model = Recommender(sim=True)\n",
    "result = model.fit(cluster_size=5)"
   ]
  },
  {
   "cell_type": "code",
   "execution_count": 56,
   "metadata": {},
   "outputs": [],
   "source": [
    "weighted_df = pd.DataFrame(result[\"weighted\"])"
   ]
  },
  {
   "cell_type": "code",
   "execution_count": 79,
   "metadata": {},
   "outputs": [
    {
     "name": "stdout",
     "output_type": "stream",
     "text": [
      "huii\n",
      "huii\n",
      "huii\n"
     ]
    },
    {
     "data": {
      "text/plain": [
       "{'Group 1': [11, 20, 29, 28, 25, 22],\n",
       " 'Group 2': [3, 5, 8, 10, 12, 13, 23],\n",
       " 'Group 3': [26, 24, 27],\n",
       " 'Group 4': [2, 4, 6, 9, 14, 16, 19],\n",
       " 'Group 5': [0, 1, 7, 15, 17, 18, 21]}"
      ]
     },
     "execution_count": 79,
     "metadata": {},
     "output_type": "execute_result"
    }
   ],
   "source": [
    "def _proposeSimilar(max_size: int = 7, min_size: int = 3) -> dict:\n",
    "\n",
    "    recommendations = {f\"Group {i}\": [] for i in range(1, weighted_df.shape[1]+1)}\n",
    "\n",
    "    for idx, participant in weighted_df.iterrows():\n",
    "        recommendations[f\"Group {participant.idxmax()+1}\"].append(idx)\n",
    "        \n",
    "    big = {k:len(v)-max_size for k, v in recommendations.items() if len(v) > max_size}\n",
    "    small = {k:min_size-len(v) for k, v in recommendations.items() if len(v) < min_size}\n",
    "    \n",
    "    while (len(big) > 0 or len(small) > 0):\n",
    "        mmax = max(big, key=big.get)\n",
    "        mmin = min(small, key=small.get)\n",
    "        for participant in range(big[mmax]):\n",
    "            part = recommendations[mmax].pop()\n",
    "            recommendations[mmin].append(part)\n",
    "            big = {k:len(v)-max_size for k, v in recommendations.items() if len(v) > max_size}\n",
    "            small = {k:len(v)-min_size for k, v in recommendations.items() if len(v) < min_size}\n",
    "    return recommendations\n",
    "\n",
    "_proposeSimilar()\n"
   ]
  },
  {
   "cell_type": "code",
   "execution_count": null,
   "metadata": {},
   "outputs": [],
   "source": []
  }
 ],
 "metadata": {
  "kernelspec": {
   "display_name": "byteme",
   "language": "python",
   "name": "python3"
  },
  "language_info": {
   "codemirror_mode": {
    "name": "ipython",
    "version": 3
   },
   "file_extension": ".py",
   "mimetype": "text/x-python",
   "name": "python",
   "nbconvert_exporter": "python",
   "pygments_lexer": "ipython3",
   "version": "3.9.12"
  },
  "orig_nbformat": 4
 },
 "nbformat": 4,
 "nbformat_minor": 2
}
